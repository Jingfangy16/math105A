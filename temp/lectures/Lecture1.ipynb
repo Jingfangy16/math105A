{
 "cells": [
  {
   "cell_type": "markdown",
   "metadata": {
    "slideshow": {
     "slide_type": "slide"
    }
   },
   "source": [
    "# Welcome to MATH 105A\n",
    "\n",
    "The course webpage is [here](https://eee.uci.edu/17f/44635). \n",
    "\n",
    "There you'll find a link to a [GitHub repository](https://github.com/petermchale/math105A) where I will upload all the class materials. Let's take a look at the Syllabus...\n",
    "\n",
    "Rather than emailing questions to the instructor/TAs, please post your questions on [Piazza](https://piazza.com/class/j829hcqsmdt4yp). "
   ]
  },
  {
   "cell_type": "markdown",
   "metadata": {
    "slideshow": {
     "slide_type": "slide"
    }
   },
   "source": [
    "# Lecture\n",
    "\n",
    "The lecture for this course is largely theoretical but I will try to illustrate the ideas presented in lecture with concrete coded examples."
   ]
  },
  {
   "cell_type": "markdown",
   "metadata": {
    "slideshow": {
     "slide_type": "fragment"
    }
   },
   "source": [
    "# Lab\n",
    "\n",
    "In the lab we will work on problems that require the translation of the mathematical ideas introduced in lecture into practical code."
   ]
  },
  {
   "cell_type": "markdown",
   "metadata": {
    "slideshow": {
     "slide_type": "slide"
    }
   },
   "source": [
    "# Grading\n",
    "\n",
    "## Math105A \n",
    "There will be quizzes (25%) based on the homework assignments, a midterm exam (25%), and a final exam (50%). \n",
    "\n",
    "## Math105LA\n",
    "Computer assignments (50%), Lab project (50%). \n",
    "\n"
   ]
  },
  {
   "cell_type": "markdown",
   "metadata": {
    "slideshow": {
     "slide_type": "slide"
    }
   },
   "source": [
    "# A review of calculus"
   ]
  },
  {
   "cell_type": "markdown",
   "metadata": {
    "slideshow": {
     "slide_type": "slide"
    }
   },
   "source": [
    "## Limits and continuity\n",
    "\n",
    "###  Definition\n",
    "A function $~f$ defined on a set $~X$ has limit $~L$ at $~x_0$\n",
    "\n",
    "$$ \\lim_{x\\to x_0} f(x) = L $$\n",
    "\n",
    "if, given any real number $\\epsilon > 0$, there exists a real number $~\\delta > 0$ such that\n",
    "\n",
    "$$ |f(x) - L| < \\epsilon, ~~ \\text{ whenever } ~~ x \\in X ~~ \\text{ and } ~~ 0 < |x - x_0| < \\delta. $$"
   ]
  },
  {
   "cell_type": "markdown",
   "metadata": {
    "slideshow": {
     "slide_type": "slide"
    }
   },
   "source": [
    "Given any real number $\\epsilon > 0$, there exists a real number $~\\delta > 0$ such that\n",
    "\n",
    "$$ |f(x) - L| < \\epsilon, ~~ \\text{ whenever } ~~ x \\in X ~~ \\text{ and } ~~ 0 < |x - x_0| < \\delta. $$\n",
    "\n",
    "\n",
    "If $f(x) = \\sin (x)$ and we are given $\\epsilon = 10^{-5}$, let's test to see what $\\delta$ should be:"
   ]
  },
  {
   "cell_type": "code",
   "execution_count": 1,
   "metadata": {
    "slideshow": {
     "slide_type": "-"
    }
   },
   "outputs": [
    {
     "name": "stdout",
     "output_type": "stream",
     "text": [
      "ans =\n",
      "\n",
      "     9.999999999833334e-06\n",
      "\n",
      "\n",
      "ans =\n",
      "\n",
      "     1\n"
     ]
    }
   ],
   "source": [
    "f = @(x) sin(x);\n",
    "epsilon = .00001;\n",
    "x0 = 0;\n",
    "x = 0.00001;\n",
    "\n",
    "format long %display more digits\n",
    "abs(f(x)-f(0))\n",
    "abs(f(x)-f(0)) < epsilon %returns 0 for false, and 1 for true"
   ]
  },
  {
   "cell_type": "markdown",
   "metadata": {
    "slideshow": {
     "slide_type": "slide"
    }
   },
   "source": [
    "#### Definition\n",
    "\n",
    "Let $f$ be a function defined on a set $X$ of real numbers and $x_0 \\in X$.  Then $f$ is _continuous_ at $x_0$ if\n",
    "\n",
    "$$ \\lim_{x \\to x_0} f(x) = f(x_0) $$  <br><br>\n",
    "\n",
    "The set of all continuous functions defined on the set $X$ is denoted by $C(X)$ ($C[a,b]$ or $C(a,b]$ if $X$ is an interval)."
   ]
  },
  {
   "cell_type": "markdown",
   "metadata": {
    "slideshow": {
     "slide_type": "subslide"
    }
   },
   "source": [
    "The function $f(x) = |x|$ is continuous everywhere but the following function is not\n",
    "\n",
    "$$ g(x) = \\begin{cases} -1, & x < 0,\\\\ 1 & x \\geq 0. \\end{cases} $$"
   ]
  },
  {
   "cell_type": "code",
   "execution_count": 37,
   "metadata": {},
   "outputs": [
    {
     "data": {
      "image/png": "[encoded data removed]",
      "text/plain": [
       "<IPython.core.display.Image object>"
      ]
     },
     "metadata": {},
     "output_type": "display_data"
    }
   ],
   "source": [
    "x = linspace(-1,1,100);\n",
    "y1 = abs(x);  % evaluate f(x)\n",
    "y2 = sign(x); % evlauate g(x)\n",
    "plot(x,y1,'r') % plotted in red\n",
    "hold on % don't erase the plot for the next plot command\n",
    "plot(x,y2,'k') % plotted in black\n",
    "xlabel('x'); ylabel('f(x) and g(x)') %label axes"
   ]
  },
  {
   "cell_type": "markdown",
   "metadata": {
    "slideshow": {
     "slide_type": "slide"
    }
   },
   "source": [
    "#### Definition\n",
    "\n",
    "Let $\\{x_n\\}_{n=1}^\\infty$ be an infinite sequence of real numbers.  The sequence has a _limit_ $x$ (_converges_ to $x$) if for any $\\epsilon > 0$ there exists a positive integer $N(\\epsilon)$ such that $|x_n-x| < \\epsilon$ whenever $n \\geq N(\\epsilon)$.  In this case, we write\n",
    "\n",
    "$$ \\lim_{n \\to \\infty} x_n = x, \\quad \\text{or} \\quad x_n \\to x ~~ \\text{as} ~~ n \\to \\infty. $$  <br><br>\n",
    "\n",
    "#### Theorem\n",
    "\n",
    "If $f$ is defined on a set $X$ of real numbers and $x_0 \\in X$, then the following are equivalent\n",
    "1. $f$ is continuous at $x_0$\n",
    "2. If $\\{x_n\\}_{n=1}^\\infty$ is any sequence that converges to $x$ then $\\lim_{n \\to \\infty} f(x_n) = f(x)$."
   ]
  },
  {
   "cell_type": "markdown",
   "metadata": {
    "slideshow": {
     "slide_type": "subslide"
    }
   },
   "source": [
    "The function \n",
    "\n",
    "$$ f(x) = \\begin{cases} \\cos(\\pi/x), & x \\neq 0,\\\\ 1 & x = 0, \\end{cases} $$\n",
    "\n",
    "is not continuous at $x = 0$.  To show this, let $x_n = 1/n$.  If $f$ is continuous then $\\lim_{n \\to \\infty} f(1/n) = 1$  "
   ]
  },
  {
   "cell_type": "code",
   "execution_count": 38,
   "metadata": {},
   "outputs": [
    {
     "data": {
      "image/png": "[encoded data removed]",
      "text/plain": [
       "<IPython.core.display.Image object>"
      ]
     },
     "metadata": {},
     "output_type": "display_data"
    }
   ],
   "source": [
    "f = @(x) cos(pi./x);\n",
    "ns = linspace(1,100,100);\n",
    "plot(ns,f(1./ns))\n",
    "xlabel('n'); ylabel('f(1/n)') %label axes"
   ]
  },
  {
   "cell_type": "markdown",
   "metadata": {
    "slideshow": {
     "slide_type": "subslide"
    }
   },
   "source": [
    "The function \n",
    "\n",
    "$$ f(x) = \\begin{cases} x\\cos(\\pi/x), & x \\neq 0,\\\\ 0 & x = 0, \\end{cases} $$\n",
    "\n",
    "is continuous at $x = 0$.  To see this, again, let $x_n = 1/n$. (Note: taking one sequence does not prove continuity)"
   ]
  },
  {
   "cell_type": "code",
   "execution_count": 36,
   "metadata": {},
   "outputs": [
    {
     "data": {
      "image/png": "[encoded data removed]",
      "text/plain": [
       "<IPython.core.display.Image object>"
      ]
     },
     "metadata": {},
     "output_type": "display_data"
    }
   ],
   "source": [
    "f = @(x) x.*cos(pi./x);\n",
    "ns = linspace(1,100,100);\n",
    "plot(ns,f(1./ns))\n",
    "xlabel('n'); ylabel('f(1/n)') %label axes"
   ]
  },
  {
   "cell_type": "markdown",
   "metadata": {
    "slideshow": {
     "slide_type": "slide"
    }
   },
   "source": [
    "#### Theorem (Intermediate Value Theorem)\n",
    "\n",
    "Let $f \\in C[a,b]$.  Assume $f(a) \\neq f(b)$.  For every real number $y$, $f(a) \\leq y \\leq f(b)$, there exists $c \\in [a,b]$ such that $f(c) = y$."
   ]
  },
  {
   "cell_type": "code",
   "execution_count": 65,
   "metadata": {},
   "outputs": [
    {
     "data": {
      "image/png": "[encoded data removed]",
      "text/plain": [
       "<IPython.core.display.Image object>"
      ]
     },
     "metadata": {},
     "output_type": "display_data"
    }
   ],
   "source": [
    "x = linspace(-3,3,100);\n",
    "f = @(x) sin(x);\n",
    "c = @(x) 0*x+.1;\n",
    "plot(x,f(x),'k')\n",
    "hold on\n",
    "plot(x,c(x)) %every value between f(-3) and f(3) is attained at least once"
   ]
  },
  {
   "cell_type": "markdown",
   "metadata": {
    "slideshow": {
     "slide_type": "slide"
    }
   },
   "source": [
    "### Differentiability<br><br>\n",
    "\n",
    "#### Definition\n",
    "\n",
    "Let $f$ be a function defined on an open interval containing $x_0$.  The function $f$ is _differentiable_ at $x_0$ if\n",
    "\n",
    "$$ f'(x_0) = \\lim_{x \\to x_0} \\frac{f(x) - f(x_0)}{x-x_0} $$\n",
    "\n",
    "exists. In which case, $f'(x_0)$ is the derivative of $f(x)$ at $x_0$.  If $f$ has a derivative at each point in a set $X$ then $f$ is said to be _differentiable on_ $X$."
   ]
  },
  {
   "cell_type": "code",
   "execution_count": 2,
   "metadata": {},
   "outputs": [
    {
     "name": "stdout",
     "output_type": "stream",
     "text": [
      "ans =\n",
      "\n",
      "    -1.666666582522680e-09\n"
     ]
    }
   ],
   "source": [
    "format long %to see more digits\n",
    "f = @(x) sin(x); df = @(x) cos(x);\n",
    "x = .0001; x0 = 0;\n",
    "(sin(x)-sin(x0))/(x-x0)-cos(x0)\n"
   ]
  },
  {
   "cell_type": "markdown",
   "metadata": {
    "slideshow": {
     "slide_type": "slide"
    }
   },
   "source": [
    "Here are some of the most important theorems from single-variable calculus:<br><br>\n",
    "\n",
    "#### Theorem \n",
    "If a function $f$ is differentiable at $x_0$, it is continuous at $x_0$.<br><br>\n",
    "\n",
    "\n",
    "#### Theorem (Rolle's Theorem)\n",
    "Suppose $f \\in C[a,b]$ and $f$ is differentiable on $[a,b]$.  If $f(a) = f(b)$, the a number $c$ in $(a,b)$ exists with $f'(c) = 0$.<br><br>\n"
   ]
  },
  {
   "cell_type": "markdown",
   "metadata": {
    "slideshow": {
     "slide_type": "slide"
    }
   },
   "source": [
    "#### Theorem (Mean Value Theorem)\n",
    "Suppose $f \\in C[a,b]$ and $f$ is differentiable on $[a,b]$.  There exists a point $c \\in (a,b)$ such that\n",
    "\n",
    "$$ f'(c) = \\frac{f(b) - f(a)}{b-a}.$$"
   ]
  },
  {
   "cell_type": "markdown",
   "metadata": {
    "slideshow": {
     "slide_type": "slide"
    }
   },
   "source": [
    "#### Theorem (Extreme Value Theorem)\n",
    "\n",
    "If $f \\in C[a,b]$, then $c_1,c_2 \\in [a,b]$ exist with $f(c_1) \\leq f(x) \\leq f(c_2)$, for all $x \\in [a,b]$.  Furthermore, if $f$ is differentiable on $[a,b]$ then $c_1,c_2$ are either the endpoints ($a$ or $b$) or at a point where $f'(x) = 0$.\n",
    "\n",
    "\n",
    "This theorem states that both the maximum and minimum values of $f(x)$ on a closed interval $[a,b]$ must be attained within the interval (at points $c_2$ and $c_1$)."
   ]
  },
  {
   "cell_type": "markdown",
   "metadata": {
    "slideshow": {
     "slide_type": "slide"
    }
   },
   "source": [
    "A more involved theorem is the following:\n",
    "\n",
    "#### Theorem\n",
    "\n",
    "Suppose $f \\in C[a,b]$ is $n$-times differentiable on $(a,b)$.  If $f(x) = 0$ at $n+1$ distinct numbers $a \\leq x_0 < x_1 < \\cdots < x_{n} \\leq b$, then a number $c \\in (x_0,x_n)$, (and hence in $(a,b)$) exists with $f^{(n)}(c) = 0$."
   ]
  },
  {
   "cell_type": "markdown",
   "metadata": {
    "slideshow": {
     "slide_type": "slide"
    }
   },
   "source": [
    "Consider the 4th degree polynomial $f(x) = 8x^4-8x^2 + 1$:"
   ]
  },
  {
   "cell_type": "code",
   "execution_count": 5,
   "metadata": {},
   "outputs": [
    {
     "data": {
      "image/png": "[encoded data removed]",
      "text/plain": [
       "<IPython.core.display.Image object>"
      ]
     },
     "metadata": {},
     "output_type": "display_data"
    }
   ],
   "source": [
    "f = @(x) 8*x.^4-8*x.^2+1; % has 4 zeros on (-1,1)\n",
    "dddf = @(x) 8*4*3*2*x; % must have 1 zero on (-1,1)\n",
    "x = linspace(-1,1,100);\n",
    "plot(x,dddf(x)) "
   ]
  },
  {
   "cell_type": "markdown",
   "metadata": {
    "slideshow": {
     "slide_type": "slide"
    }
   },
   "source": [
    "### Integration\n",
    "\n",
    "#### Definition\n",
    "\n",
    "The _Riemann integral_ of the function $f$ defined on the interval $[a,b]$ is the following limit (if it exists):\n",
    "\n",
    "$$ \\int_a^b f(x) dx = \\lim_{\\max \\Delta x_i \\to 0} \\sum_{i=1}^n f(\\bar x_i) \\Delta x_i,$$\n",
    "\n",
    "where the numbers $x_0,x_1,\\ldots,x_n$ satisfy $a = x_0 \\leq x_1 \\leq \\cdots \\leq x_n = b$, $\\Delta x_i = x_i - x_{i-1}$ for $i =  1,2,\\ldots,n$.  And $\\bar x_i$ is an arbitrary point in the interval $[x_{i-1},x_i]$."
   ]
  },
  {
   "cell_type": "markdown",
   "metadata": {
    "slideshow": {
     "slide_type": "subslide"
    }
   },
   "source": [
    "Let's choose the points $x_i$ to be evenly spaced: $x_i = a + i\\frac{b-a}{n}$ and $\\bar x_i = x_{i}$.  Then we have $\\Delta x_i = \\frac{b-a}{n}$ and\n",
    "\n",
    "$$\\int_a^b f(x) dx = \\lim_{n \\to \\infty} \\frac{b-a}{n} \\sum_{i=1}^n f(x_{i}).$$"
   ]
  },
  {
   "cell_type": "code",
   "execution_count": 37,
   "metadata": {},
   "outputs": [
    {
     "name": "stdout",
     "output_type": "stream",
     "text": [
      "est =\n",
      "\n",
      "   2.593272082493666\n",
      "\n",
      "\n",
      "actual =\n",
      "\n",
      "   2.350402387287603\n",
      "\n",
      "\n",
      "ans =\n",
      "\n",
      "   0.242869695206063\n"
     ]
    }
   ],
   "source": [
    "f = @(x) exp(x);\n",
    "n = 10; a = -1; b = 1;\n",
    "x = linspace(a,b,n+1); % create n + 1 points\n",
    "x = x(2:end); % take the last n of these points\n",
    "est = (b-a)/n*sum(f(x)) % evaluate f at these points and add them up\n",
    "actual = exp(b)-exp(a) % the actual value\n",
    "abs(est-actual)"
   ]
  },
  {
   "cell_type": "markdown",
   "metadata": {
    "slideshow": {
     "slide_type": "subslide"
    }
   },
   "source": [
    "Now choose and $\\bar x_i = \\displaystyle \\frac{x_{i}+x_{i-1}}{2}$ to be the midpoint.  We still have $\\Delta x_i = \\frac{b-a}{n}$ and\n",
    "\n",
    "$$\\int_a^b f(x) dx = \\lim_{n \\to \\infty} \\frac{b-a}{n} \\sum_{i=1}^n f(\\bar x_{i}).$$"
   ]
  },
  {
   "cell_type": "code",
   "execution_count": 3,
   "metadata": {},
   "outputs": [
    {
     "name": "stdout",
     "output_type": "stream",
     "text": [
      "est =\n",
      "\n",
      "   2.346489615388305\n",
      "\n",
      "\n",
      "actual =\n",
      "\n",
      "   2.350402387287603\n",
      "\n",
      "\n",
      "ans =\n",
      "\n",
      "   0.003912771899298\n"
     ]
    }
   ],
   "source": [
    "f = @(x) exp(x);\n",
    "n = 10; a = -1; b = 1;\n",
    "x = linspace(a,b,n+1); % create n + 1 points\n",
    "x = x(2:end); % take the last n of these points\n",
    "x = x - (b-a)/(2*n); % shift to the midpoint\n",
    "est = (b-a)/n*sum(f(x)) % evaluate f at these points and add them up\n",
    "actual = exp(b)-exp(a) % the actual value\n",
    "abs(est-actual)"
   ]
  },
  {
   "cell_type": "markdown",
   "metadata": {
    "slideshow": {
     "slide_type": "slide"
    }
   },
   "source": [
    "#### Theorem (Weighted Mean Value Theorem)\n",
    "\n",
    "Suppose $f \\in C[a,b]$, the Riemann integral of $g$ exists on $[a,b]$, and $g(x)$ does not change sign on $[a,b]$.  Then there exists a number $c$ in $(a,b)$ with\n",
    "\n",
    "$$ \\int_a^b f(x) g(x) dx = f(c) \\int_a^b g(x) dx. $$"
   ]
  },
  {
   "cell_type": "markdown",
   "metadata": {
    "slideshow": {
     "slide_type": "slide"
    }
   },
   "source": [
    "#### Theorem (Taylor's Theorem)\n",
    "\n",
    "Suppose $f \\in C^n[a,b]$, and that $f^{(n+1)}$ exists on $[a,b]$, and $x_0 \\in [a,b]$.  For every $x \\in [a,b]$, there exists a number $\\xi(x)$ between $x_0$ and $x$ with\n",
    "\n",
    "$$ f(x) = P_n(x) + R_n(x),$$\n",
    "\n",
    "where\n",
    "\n",
    "$$ P_n(x) = f(x_0) + f'(x_0)(x-x_0) + \\frac{f''(x_0)}{2!} (x-x_0)^2 + \\cdots + \\frac{f^{(n)}(x_0)}{n!} (x-x_0)^n,$$\n",
    "\n",
    "and\n",
    "\n",
    "$$ R_n(x) = \\frac{f^{(n+1)}(\\xi(x))}{(n+1)!} (x-x_0)^{n+1}. $$"
   ]
  }
 ],
 "metadata": {
  "celltoolbar": "Slideshow",
  "kernelspec": {
   "display_name": "Python 3",
   "language": "python",
   "name": "python3"
  },
  "language_info": {
   "codemirror_mode": {
    "name": "ipython",
    "version": 3
   },
   "file_extension": ".py",
   "mimetype": "text/x-python",
   "name": "python",
   "nbconvert_exporter": "python",
   "pygments_lexer": "ipython3",
   "version": "3.6.1"
  }
 },
 "nbformat": 4,
 "nbformat_minor": 1
}
