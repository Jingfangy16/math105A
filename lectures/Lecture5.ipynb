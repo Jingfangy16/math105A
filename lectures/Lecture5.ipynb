{
 "cells": [
  {
   "cell_type": "markdown",
   "metadata": {
    "slideshow": {
     "slide_type": "slide"
    }
   },
   "source": [
    "## Newton's Method\n",
    "\n",
    "We've discussed two methods for solving $f(x) = 0$:\n",
    "\n",
    "1. The bisection method.\n",
    "2. Fixed-point iteration applied to $g(x) = x-f(x)$.\n",
    "\n",
    "Method 1 is guaranteed to work, and method 2 is simpler (and can converge faster) but it can fail.  We now give yet another method that is more robust than method 2 (not as robust as method 1) and converges faster than both methods.\n",
    "    \n",
    "The method is called __Newton's method__."
   ]
  },
  {
   "cell_type": "markdown",
   "metadata": {
    "slideshow": {
     "slide_type": "slide"
    }
   },
   "source": [
    "We are trying to find $p$ such that $f(p) = 0$.   ~Assume $f \\in C^2[a,b]$ and that $p^*$ is close to $p$.  We use Taylor's theorem to find that for some $\\xi(p^*)$\n",
    "\n",
    "$$ f(p) = f(p^*) + f'(p^*)(p-p^*) + \\frac{f''(\\xi(p^*))}{2} (p-p^*)^2. $$\n",
    "\n",
    "We know that $f(p) = 0$:\n",
    "\n",
    "$$ 0 = f(p^*) + f'(p^*)(p-p^*) + E(p,p^*), \\quad E(p,p^*) =  \\frac{f''(\\xi(p^*))}{2} (p-p^*)^2.$$\n",
    "\n",
    "Assuming that $E(p,p^*)$ is very small ($p$ and $p^*$ are close), we solve for the root $p$."
   ]
  },
  {
   "cell_type": "markdown",
   "metadata": {
    "slideshow": {
     "slide_type": "slide"
    }
   },
   "source": [
    "$$ 0 = f(p^*) + f'(p^*)(p-p^*) + E(p,p^*)\\\\\n",
    "-f(p^*) - E(p,p^*) = f'(p^*)(p-p^*)\\\\\n",
    "-\\frac{f(p^*)}{f'(p^*)} - \\frac{E(p,p^*)}{f'(p^*)} = p - p^*\\\\\n",
    "p = p ^* -\\frac{f(p^*)}{f'(p^*)} - \\frac{E(p,p^*)}{f'(p^*)}\\\\\n",
    "p \\approx p ^* -\\frac{f(p^*)}{f'(p^*)}$$\n",
    "\n",
    "This last relation gives the Newton iteration."
   ]
  },
  {
   "cell_type": "markdown",
   "metadata": {
    "slideshow": {
     "slide_type": "slide"
    }
   },
   "source": [
    "#### Definition\n",
    "\n",
    "Given an initial guess $p_0\\in [a,b]$ for a root of $f(x) \\in C^1[a,b]$, the __Newton iteration__ is given by\n",
    "\n",
    "$$ p_n = p_{n-1} - \\frac{f(p_{n-1})}{f'(p_{n-1})}.$$\n",
    "\n",
    "Geometrically, the Newton iteration first approximates $f(x)$ by its tangent line approximation at $x = p_{n-1}$, given by\n",
    "\n",
    "$$ f(x) \\approx L(x) = f(p_{n-1}) + f'(p_{n-1})(x - p_{n-1}). $$\n",
    "\n",
    "Then to approximate a root of $f(x)$, the $x$-intercept of the tangent line is computed $L(p_n) = 0$."
   ]
  },
  {
   "cell_type": "markdown",
   "metadata": {
    "slideshow": {
     "slide_type": "slide"
    }
   },
   "source": [
    "Now, let's compare Newton's method with fixed-point iteration.  Suppose we want to solve\n",
    "\n",
    "$$ f(x) = x - \\cos x = 0.$$"
   ]
  },
  {
   "cell_type": "code",
   "execution_count": 21,
   "metadata": {
    "collapsed": false,
    "slideshow": {
     "slide_type": "-"
    }
   },
   "outputs": [
    {
     "name": "stdout",
     "output_type": "stream",
     "text": [
      "Error from fixed-point iteration 1.82118e-01 \n",
      "Error from Newton iteration 2.44506e-03\n"
     ]
    }
   ],
   "source": [
    "g = @(x) cos(x);\n",
    "f = @(x) x - cos(x);\n",
    "df = @(x) 1 + sin(x);\n",
    "a = .2; % initial guess\n",
    "for i = 1:100;\n",
    "    a = g(a);\n",
    "end\n",
    "exact = a;\n",
    "a = .2;\n",
    "a = g(a);\n",
    "a = g(a);\n",
    "fprintf('Error from fixed-point iteration %0.5e \\n',abs(a-exact))\n",
    "\n",
    "a = .2;\n",
    "a = a - f(a)/df(a);\n",
    "a = a - f(a)/df(a);\n",
    "fprintf('Error from Newton iteration %0.5e \\n',abs(a-exact))"
   ]
  },
  {
   "cell_type": "markdown",
   "metadata": {
    "slideshow": {
     "slide_type": "slide"
    }
   },
   "source": [
    "#### Theorem (Convergence of Newton's method)\n",
    "\n",
    "Let $f \\in C^2[a,b]$.  If $p \\in [a,b]$ is such that $f(p) = 0$ and $f'(p) \\neq 0$, then there exists $\\delta > 0$ such that Newton's method generates a sequence $\\{p_n\\}_{n=1}^\\infty$  that converges to $p$ if $p_0 \\in [p-\\delta, p + \\delta]$.\n",
    "\n",
    "#### Proof\n",
    "\n",
    "Note that if $f(p) = 0$, so that $p$ is a fixed point of the Newton iteration\n",
    "\n",
    "$$ p = p - \\frac{f(p)}{f'(p)}.$$\n",
    "\n",
    "So for $\\displaystyle g(x) = x - \\frac{f(p)}{f'(p)}$, one has to use the hypotheses of the theorem to show $g(x)$ satisfies the convergence criteria for fixed-point iteration.  This is not trivial!"
   ]
  },
  {
   "cell_type": "markdown",
   "metadata": {
    "slideshow": {
     "slide_type": "subslide"
    }
   },
   "source": [
    "#### Proposition\n",
    "\n",
    "Suppose $g \\in C^1[a,b]$ and $g(p) = p$ for $p \\in (a,b)$.  Assume further that $|g'(p)| = P < 1$.  Then there exists $\\delta > 0$, such that $g(x) \\in [p-\\delta,p + \\delta]$ for $x \\in [p-\\delta, p+\\delta]$ and $|g'(x)| \\leq K < 1$.\n",
    "\n",
    "#### Proof\n",
    "\n",
    "We establish the last claim first.  Because $|g'(x)|$ is continuous: For $\\epsilon = (1-P)/2$ there exists $\\delta> 0$ such that \n",
    "\n",
    "$$||g'(x)| - P| \\leq \\epsilon  \\text{  for  } |x-p|\\leq \\delta.$$  \n",
    "\n",
    "Thus for $x \\in [p-\\delta,p+\\delta]$, \n",
    "\n",
    "$$P - (1-P)/2 \\leq |g'(x)| \\leq P + (1-P)/2,$$\n",
    "\n",
    "or \n",
    "\n",
    "$$|g'(x)| \\leq P  + (1-P)/2 = (1+P)/2 < 1.$$"
   ]
  },
  {
   "cell_type": "markdown",
   "metadata": {
    "slideshow": {
     "slide_type": "subslide"
    }
   },
   "source": [
    "We then use Taylor's theorem which states for some $\\xi(p)$\n",
    "\n",
    "$$ g(x) = g(p) + g'(\\xi(p))(x-p).$$\n",
    "\n",
    "Rearranging,\n",
    "\n",
    "$$ |g(x)-g(p)| \\leq |g'(\\xi(p)| |x-p| \\leq \\frac{(1+P)}{2} |x-p| < \\delta, ~\\text{ for }~ |x-p| \\leq \\delta. $$\n",
    "\n",
    "Since $g(p) = p$, for $x \\in [p-\\delta,p+\\delta]$ we have $|g(x) - p| < \\delta$ or $g(x) \\in [p-\\delta,p+\\delta]$.\n",
    "\n",
    "<br><br>\n",
    "\n",
    "This Proposition states that if a continuously differentiable function has a fixed-point and the derivative at the fixed point is less than one (in abs. value), the the fixed-point is unique and fixed-point iteration converges (on a small enough interval).  \n",
    "\n"
   ]
  },
  {
   "cell_type": "markdown",
   "metadata": {
    "slideshow": {
     "slide_type": "subslide"
    }
   },
   "source": [
    "And so, to prove convergence of Newton's method we need to show that the function\n",
    "\n",
    "$$g(x) = x - f(x)/f'(x)$$\n",
    "\n",
    "has a derivative that is less than zero at $x = p$.   Indeed,\n",
    "\n",
    "$$g'(x) = 1 - \\frac{[f'(x)]^2 - f(x)f''(x)}{[f'(x)]^2} = \\frac{f(x)f''(x)}{[f'(x)]^2}.$$\n",
    "\n",
    "Since $f(p) = 0$, $g'(p) = 0$."
   ]
  },
  {
   "cell_type": "markdown",
   "metadata": {
    "slideshow": {
     "slide_type": "subslide"
    }
   },
   "source": [
    "#### Corollary \n",
    "\n",
    "Suppose $\\{g_n\\}_{n=1}^\\infty$ are the iterates of Newton's method, $f(p) = 0$ and $f'(p) \\neq 0$. Then for $p_0$ sufficiently close to $p$ (a good enough guess), for any fixed $0 < K < 1$\n",
    "\n",
    "$$p_n = p + O(K^n).$$\n",
    "\n",
    "<br><br>\n",
    "\n",
    "Note:  For fixed-point iteration we have $p_n = p + O(K^n)$ for a fixed $K > 0$.  Since this holds for any $K$, convergence is much faster for Newton's method."
   ]
  },
  {
   "cell_type": "markdown",
   "metadata": {
    "slideshow": {
     "slide_type": "slide"
    }
   },
   "source": [
    "A complication of Newton's method that often comes up in practice is that you need to know how to compute $f'(x)$. This can be not practical in some cases and tedious in others.  The __secant method__ and the __method of false position__ can be seen as modifications of Newton's method that remedy this.  We will not focus too much attention on these other methods.\n",
    "\n",
    "Newton's method also has a generalization to higher dimensions to solve, for example, $f(x,y) = 0$.  Then the division by $f'(p_n)$ is replaced by the inversion of the Jacobian.  We will discuss this later in the course if time permits."
   ]
  },
  {
   "cell_type": "code",
   "execution_count": 77,
   "metadata": {
    "collapsed": false,
    "slideshow": {
     "slide_type": "slide"
    }
   },
   "outputs": [
    {
     "data": {
      "image/png": "[encoded data removed]",
      "text/plain": [
       "<IPython.core.display.Image object>"
      ]
     },
     "metadata": {},
     "output_type": "display_data"
    }
   ],
   "source": [
    "hold off\n",
    "f = @(x) x-cos(3*x); df = @(x) 1+3*sin(3*x);\n",
    "x = linspace(0,1,100);\n",
    "plot(x,f(x)); hold on; plot(x,0*x,'k');\n",
    "axis([0 1 -1 2])\n",
    "p = .05;\n",
    "plot(p,0,'ro','MarkerFaceColor','r'); plot(p,f(p),'ko','MarkerFaceColor','k');\n",
    "for i = 1:2\n",
    "    l = @(x) f(p) + df(p)*(x-p);\n",
    "    plot(x,l(x),'--k');\n",
    "    p = p - f(p)/df(p);\n",
    "    plot(p,f(p),'ko','MarkerFaceColor','k'); plot(p,0,'ro','MarkerFaceColor','r');\n",
    "end"
   ]
  },
  {
   "cell_type": "code",
   "execution_count": null,
   "metadata": {
    "collapsed": true,
    "slideshow": {
     "slide_type": "slide"
    }
   },
   "outputs": [],
   "source": []
  }
 ],
 "metadata": {
  "celltoolbar": "Slideshow",
  "kernelspec": {
   "display_name": "Matlab",
   "language": "matlab",
   "name": "matlab"
  },
  "language_info": {
   "codemirror_mode": "octave",
   "file_extension": ".m",
   "help_links": [
    {
     "text": "MetaKernel Magics",
     "url": "https://github.com/calysto/metakernel/blob/master/metakernel/magics/README.md"
    }
   ],
   "mimetype": "text/x-octave",
   "name": "matlab",
   "version": "0.11.0"
  }
 },
 "nbformat": 4,
 "nbformat_minor": 0
}
