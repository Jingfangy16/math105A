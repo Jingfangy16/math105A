{
 "cells": [
  {
   "cell_type": "markdown",
   "metadata": {},
   "source": [
    "This lab will be mostly focused implementing efficient algorithms. While we are not going to place huge focus on the efficiency of the algorithms we write, we are going to make sure we understand the basics."
   ]
  },
  {
   "cell_type": "markdown",
   "metadata": {},
   "source": [
    "# Evaluating Taylor polynomials"
   ]
  },
  {
   "cell_type": "markdown",
   "metadata": {},
   "source": [
    "Consider the Taylor series expansion for $\\log(x)$ about $x = 1$:\n",
    "\n",
    "$$\\log(x) = \\sum_{n=1}^\\infty \\frac{(-1)^{n+1} (x-1)^{n}}{n}. $$\n",
    "\n",
    "The partial sums are given by\n",
    "\n",
    "$$P_N(x) = \\sum_{n=1}^N \\frac{(-1)^{n+1} (x-1)^{n}}{n}. $$\n",
    "\n",
    "Here is some example code that is not efficient to compute $P_N(x)$"
   ]
  },
  {
   "cell_type": "code",
   "execution_count": 2,
   "metadata": {
    "scrolled": false
   },
   "outputs": [
    {
     "name": "stdout",
     "output_type": "stream",
     "text": [
      "partial sum =  0.0953101798043\n",
      "full sum =  0.0953101798043\n",
      "time taken to execute code =  0.000737905502319\n"
     ]
    }
   ],
   "source": [
    "x_value = 1.1\n",
    "def partial_sum_slow(x, N=100):    \n",
    "    SUM = 0    \n",
    "    for n in range(1,N+1):\n",
    "        SUM = SUM + (-1)**(n+1)*(x-1)**n/n\n",
    "    return SUM\n",
    "\n",
    "import numpy as np \n",
    "\n",
    "import time\n",
    "start = time.time()\n",
    "print 'partial sum = ', partial_sum_slow(x_value)\n",
    "print 'full sum = ', np.log(x_value)\n",
    "end = time.time()\n",
    "print 'time taken to execute code = ', end - start"
   ]
  },
  {
   "cell_type": "markdown",
   "metadata": {},
   "source": [
    "# Exercise 1\n",
    "\n",
    "Modify the above code for computing $P_N(x)$ such that it counts the total number operations (multiplications/divisions and additions/subtractions). For simplicity consider $a^k$ as $k-1$ multiplications. Vary $N$; how does the number of operations scale with $N$? "
   ]
  },
  {
   "cell_type": "code",
   "execution_count": 3,
   "metadata": {
    "collapsed": true
   },
   "outputs": [
    {
     "ename": "TypeError",
     "evalue": "'NoneType' object is not iterable",
     "output_type": "error",
     "traceback": [
      "\u001b[0;31m---------------------------------------------------------------------------\u001b[0m",
      "\u001b[0;31mTypeError\u001b[0m                                 Traceback (most recent call last)",
      "\u001b[0;32m<ipython-input-3-2a7a20d96e9f>\u001b[0m in \u001b[0;36m<module>\u001b[0;34m()\u001b[0m\n\u001b[1;32m      4\u001b[0m \u001b[0;34m\u001b[0m\u001b[0m\n\u001b[1;32m      5\u001b[0m \u001b[0mN\u001b[0m \u001b[0;34m=\u001b[0m \u001b[0;36m10\u001b[0m\u001b[0;34m\u001b[0m\u001b[0m\n\u001b[0;32m----> 6\u001b[0;31m \u001b[0mpartial_sum\u001b[0m\u001b[0;34m,\u001b[0m \u001b[0mnumber_operations\u001b[0m \u001b[0;34m=\u001b[0m \u001b[0mpartial_sum_slow\u001b[0m\u001b[0;34m(\u001b[0m\u001b[0mx_value\u001b[0m\u001b[0;34m,\u001b[0m \u001b[0mN\u001b[0m\u001b[0;34m)\u001b[0m\u001b[0;34m\u001b[0m\u001b[0m\n\u001b[0m\u001b[1;32m      7\u001b[0m \u001b[0;32mprint\u001b[0m \u001b[0;34m'number of operations = '\u001b[0m\u001b[0;34m,\u001b[0m \u001b[0mnumber_operations\u001b[0m\u001b[0;34m\u001b[0m\u001b[0m\n\u001b[1;32m      8\u001b[0m \u001b[0;32mprint\u001b[0m \u001b[0;34m'Compare with N = '\u001b[0m\u001b[0;34m,\u001b[0m \u001b[0mN\u001b[0m\u001b[0;34m\u001b[0m\u001b[0m\n",
      "\u001b[0;31mTypeError\u001b[0m: 'NoneType' object is not iterable"
     ]
    }
   ],
   "source": [
    "def partial_sum_slow(x, N):    \n",
    "    # your code here \n",
    "    pass \n",
    "\n",
    "N = 10\n",
    "partial_sum, number_operations = partial_sum_slow(x_value, N)\n",
    "print 'number of operations = ', number_operations\n",
    "print 'Compare with N = ', N"
   ]
  },
  {
   "cell_type": "markdown",
   "metadata": {},
   "source": [
    "# Exercise 2\n",
    "\n",
    "Using the algorithm written in Example 1 on page 33 of the text (ignoring the error estimate), write code to compute $P_N(x)$ that needs only $4N$ operations to compute $N$ terms. Call this `partial_sum_fast`. Here is the pseudo-code:\n",
    "\n",
    "    STEP 1:\n",
    "      set n = 1; y = x-1; SUM = 0; POWER = y; TERM = y; SIGN = -1;\n",
    "    STEP 2:\n",
    "      While n <= N do STEPS 3 & 4\n",
    "    STEP 3:\n",
    "      Set SIGN = - SIGN; SUM = SUM + SIGN*TERM;\n",
    "         POWER = POWER*y; TERM = POWER/(n+1);\n",
    "    STEP 4:\n",
    "      Set n = n+1;\n",
    "    STEP 5:\n",
    "      OUTPUT(SUM);\n",
    "      \n",
    "Make sure you understand why this completes the same task as `partial_sum_slow`. "
   ]
  },
  {
   "cell_type": "markdown",
   "metadata": {},
   "source": [
    "# Exercise 3\n",
    "\n",
    "Using the `break` command\n",
    "perform the following. Assume you only have limited resources and can only use 1000 operations. Approximate $\\log (1.6)$ using `partial_sum_slow` and `partial_sum_fast`, counting your operations as you go, and breaking out of the `for` loop when 1000 operations have been counted. What is the error for each algorithm? How many terms did you compute?\n",
    "\n",
    "\n"
   ]
  },
  {
   "cell_type": "code",
   "execution_count": null,
   "metadata": {
    "collapsed": true
   },
   "outputs": [],
   "source": []
  }
 ],
 "metadata": {
  "kernelspec": {
   "display_name": "Python 2",
   "language": "python",
   "name": "python2"
  },
  "language_info": {
   "codemirror_mode": {
    "name": "ipython",
    "version": 2
   },
   "file_extension": ".py",
   "mimetype": "text/x-python",
   "name": "python",
   "nbconvert_exporter": "python",
   "pygments_lexer": "ipython2",
   "version": "2.7.14"
  }
 },
 "nbformat": 4,
 "nbformat_minor": 2
}
